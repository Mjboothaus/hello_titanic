{
 "cells": [
  {
   "cell_type": "code",
   "execution_count": null,
   "metadata": {
    "hide_input": true
   },
   "outputs": [],
   "source": [
    "from nbdev import *"
   ]
  },
  {
   "cell_type": "code",
   "execution_count": null,
   "metadata": {},
   "outputs": [],
   "source": [
    "%nbdev_hide\n",
    "from hello_titanic.core import *"
   ]
  },
  {
   "cell_type": "markdown",
   "metadata": {},
   "source": [
    "###### Titanic package\n",
    "\n",
    "> Titanic package to try out development using `nbdev` package."
   ]
  },
  {
   "cell_type": "markdown",
   "metadata": {},
   "source": [
    "The use of the \"Titanic Dataset\" is like the `Hello World` of Data Science in many ways. See my [blog post - Did a male octogenarian really survive the sinking of the RMS Titanic?](https://databooth.com.au/blog/did-a-male-octogenarian-really-survive-the-sinking-of-the-rms-titanic/).\n",
    "\n",
    "Basically this (simple) working example is meant to demostrate the architecture/workflow that DataBooth employs in its framework for helping small to medium enterprises marshall, understand and create additional value from their data assets.\n",
    "\n",
    "A (currently hand-drawn) diagram of the overall framework is shown below:\n",
    "\n",
    "[TODO: Complete drawing and insert image]"
   ]
  },
  {
   "cell_type": "markdown",
   "metadata": {},
   "source": [
    "## Install"
   ]
  },
  {
   "cell_type": "markdown",
   "metadata": {},
   "source": [
    "`pip install your_project_name`"
   ]
  },
  {
   "cell_type": "markdown",
   "metadata": {},
   "source": [
    "## How to use"
   ]
  },
  {
   "cell_type": "markdown",
   "metadata": {},
   "source": [
    "Fill me in please! Don't forget code examples:"
   ]
  }
 ],
 "metadata": {
  "kernelspec": {
   "display_name": "Python 3",
   "language": "python",
   "name": "python3"
  }
 },
 "nbformat": 4,
 "nbformat_minor": 2
}
