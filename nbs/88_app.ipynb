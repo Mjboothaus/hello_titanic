{
 "cells": [
  {
   "cell_type": "code",
   "execution_count": null,
   "metadata": {},
   "outputs": [],
   "source": [
    "%load_ext autoreload\n",
    "%autoreload 2"
   ]
  },
  {
   "cell_type": "code",
   "execution_count": null,
   "metadata": {
    "hide_input": true
   },
   "outputs": [],
   "source": [
    "from nbdev import *"
   ]
  },
  {
   "cell_type": "code",
   "execution_count": null,
   "metadata": {},
   "outputs": [
    {
     "name": "stdout",
     "output_type": "stream",
     "text": [
      "Cells will be exported to hello_titanic.app,\n",
      "unless a different module is specified after an export flag: `%nbdev_export special.module`\n"
     ]
    }
   ],
   "source": [
    "%nbdev_default_export app"
   ]
  },
  {
   "cell_type": "markdown",
   "metadata": {},
   "source": [
    "# Titanic Streamlit App\n",
    "\n",
    "> This is the front-end application built in Streamlit (which I believe is not compatible with Jupyter notebooks).\n",
    "> However `nbdev` converts this to a straight .py script by default - which should be possible to `streamlit run`."
   ]
  },
  {
   "cell_type": "code",
   "execution_count": null,
   "metadata": {},
   "outputs": [],
   "source": [
    "%nbdev_hide\n",
    "from nbdev.showdoc import *\n",
    "from fastcore.test import *"
   ]
  },
  {
   "cell_type": "code",
   "execution_count": null,
   "metadata": {},
   "outputs": [],
   "source": [
    "%nbdev_export\n",
    "import numpy as np\n",
    "import pandas as pd\n",
    "import datetime as dt\n",
    "import streamlit as st\n",
    "from streamlit_folium import folium_static\n",
    "import folium\n",
    "\n",
    "import hello_titanic.core as core\n",
    "import hello_titanic.datapipe as datapipe\n",
    "import hello_titanic.geo as geo\n",
    "\n",
    "from pandas_profiling import ProfileReport\n",
    "from streamlit_pandas_profiling import st_profile_report\n",
    "from geopy.geocoders import Nominatim"
   ]
  },
  {
   "cell_type": "code",
   "execution_count": null,
   "metadata": {},
   "outputs": [],
   "source": [
    "%nbdev_export\n",
    "TITANIC_DATA_FILE = 'http://biostat.mc.vanderbilt.edu/wiki/pub/Main/DataSets/titanic3.csv'\n",
    "AUTHOR_INFO = 'AUTHOR: [Michael J. Booth](https://about.me/mjboothaus)'\n",
    "APP_NAME = 'Titanic Data Explorer - PP'"
   ]
  },
  {
   "cell_type": "code",
   "execution_count": null,
   "metadata": {},
   "outputs": [],
   "source": [
    "%nbdev_export\n",
    "class SideBar:\n",
    "    datasource = 'DATA: [Titanic Dataset (known errors)](http://biostat.mc.vanderbilt.edu/wiki/pub/Main/DataSets/titanic3info.txt)'\n",
    "    datasize = 0   # look to calculate this (in MB?)\n",
    "    author = AUTHOR_INFO\n",
    "    title = 'Data details...'\n",
    "    data_local = False\n",
    "    start_date = dt.date.today()\n",
    "    end_date = dt.date.today()\n",
    "    selected_data = None\n",
    "    calc_corr = False\n",
    "\n",
    "\n",
    "def create_sidebar():\n",
    "    sb = SideBar()\n",
    "    st.sidebar.markdown(sb.author)\n",
    "    st.sidebar.markdown(sb.datasource)\n",
    "    st.sidebar.info(sb.title)\n",
    "    st.sidebar.markdown('Datasize: ' + str(sb.datasize))\n",
    "    sb.calc_corr = st.sidebar.checkbox('Calculate correlations?', value=False)\n",
    "    return sb\n",
    "\n",
    "\n",
    "def app_mainscreen(df, pr, APP_NAME):\n",
    "    st.title(APP_NAME)\n",
    "\n",
    "    # Folium mapping example: center on Sydney Opera House\n",
    "    m = folium.Map(location=[-33.85719805, 151.21512338473752], zoom_start=15)\n",
    "\n",
    "    # add marker for Opera House\n",
    "    tooltip = \"Sydney Opera House\"\n",
    "    folium.Marker(\n",
    "        [-33.85719805, 151.21512338473752], popup=\"Sydney Opera House\", tooltip=tooltip\n",
    "    ).add_to(m)\n",
    "\n",
    "    # call to render Folium map in Streamlit\n",
    "    folium_static(m)\n",
    "\n",
    "    # Dataframe / Profiling example\n",
    "    df['home.dest'].fillna(value='', inplace=True)\n",
    "    #df['lat_lon'] = df['home.dest'].apply(lambda dest: geo.lookup_lat_lon_from_placename(dest))\n",
    "    #TODO: Pre-process data & cache\n",
    "    st.write(df)\n",
    "    st.header('Data Profile:')\n",
    "    st_profile_report(pr)\n",
    "\n",
    "    return df"
   ]
  },
  {
   "cell_type": "code",
   "execution_count": null,
   "metadata": {},
   "outputs": [],
   "source": [
    "%nbdev_export\n",
    "def notebook_mainscreen(df, pr, APP_NAME):\n",
    "    print(APP_NAME)\n",
    "\n",
    "    # Folium mapping example: center on Sydney Opera House\n",
    "    m = folium.Map(location=[-33.85719805, 151.21512338473752], zoom_start=15)\n",
    "\n",
    "    # add marker for Opera House\n",
    "    tooltip = \"Sydney Opera House\"\n",
    "    folium.Marker(\n",
    "        [-33.85719805, 151.21512338473752], popup=\"Sydney Opera House\", tooltip=tooltip\n",
    "    ).add_to(m)\n",
    "\n",
    "    # call to render Folium map\n",
    "    m\n",
    "\n",
    "    # Dataframe / Profiling example\n",
    "    df['home.dest'].fillna(value='', inplace=True)\n",
    "    #df['lat_lon'] = df['home.dest'].apply(lambda dest: geo.lookup_lat_lon_from_placename(dest))\n",
    "    #TODO: Pre-process data & cache\n",
    "\n",
    "    print(df.head(5))\n",
    "    print('Data Profile:')\n",
    "    pr"
   ]
  },
  {
   "cell_type": "code",
   "execution_count": null,
   "metadata": {},
   "outputs": [
    {
     "name": "stdout",
     "output_type": "stream",
     "text": [
      "Using cached data file...\n",
      "Titanic Data Explorer - PP\n",
      "   pclass  survived                                             name     sex  \\\n",
      "0       1         1                    Allen, Miss. Elisabeth Walton  female   \n",
      "1       1         1                   Allison, Master. Hudson Trevor    male   \n",
      "2       1         0                     Allison, Miss. Helen Loraine  female   \n",
      "3       1         0             Allison, Mr. Hudson Joshua Creighton    male   \n",
      "4       1         0  Allison, Mrs. Hudson J C (Bessie Waldo Daniels)  female   \n",
      "\n",
      "     age  sibsp  parch  ticket      fare    cabin embarked  boat   body  \\\n",
      "0  29.00      0      0   24160  211.3375       B5        S     2    NaN   \n",
      "1   0.92      1      2  113781  151.5500  C22 C26        S    11    NaN   \n",
      "2   2.00      1      2  113781  151.5500  C22 C26        S  None    NaN   \n",
      "3  30.00      1      2  113781  151.5500  C22 C26        S  None  135.0   \n",
      "4  25.00      1      2  113781  151.5500  C22 C26        S  None    NaN   \n",
      "\n",
      "                         home.dest  \n",
      "0                     St Louis, MO  \n",
      "1  Montreal, PQ / Chesterville, ON  \n",
      "2  Montreal, PQ / Chesterville, ON  \n",
      "3  Montreal, PQ / Chesterville, ON  \n",
      "4  Montreal, PQ / Chesterville, ON  \n",
      "Data Profile:\n"
     ]
    }
   ],
   "source": [
    "%nbdev_export\n",
    "sb = create_sidebar()\n",
    "\n",
    "df = datapipe.load_and_cache_raw_data()\n",
    "\n",
    "if sb.calc_corr:\n",
    "    pr = ProfileReport(df, explorative=True)\n",
    "else:\n",
    "    pr = ProfileReport(df, explorative=True, correlations=None)\n",
    "\n",
    "\n",
    "if core.in_notebook():\n",
    "    notebook_mainscreen(df, pr, APP_NAME)\n",
    "else:\n",
    "    df = app_mainscreen(df, pr, APP_NAME)"
   ]
  },
  {
   "cell_type": "code",
   "execution_count": null,
   "metadata": {},
   "outputs": [],
   "source": [
    "# TODOs:\n",
    "#\n",
    "# def get_or_used_cached_data(datasource):\n",
    "#\n",
    "# try to use config or similar file (check nbdev options) for #DEFINEs or equivalent e.g. APP_NAME, DATA_SOURCE\n",
    "# def create_sidebar()\n",
    "#\n",
    "# Design - put all \"analytics\" code into the nbdev framework - decouple GUI from analytics as far as possible\n",
    "#\n",
    "# try to integrate mypy\n",
    "#\n",
    "# add in Great Expectations (again via nbdev)\n",
    "#\n",
    "# Start to use GitHub pull requests for features / functionality"
   ]
  },
  {
   "cell_type": "code",
   "execution_count": null,
   "metadata": {},
   "outputs": [
    {
     "name": "stdout",
     "output_type": "stream",
     "text": [
      "Converted 00_core.ipynb.\n",
      "Converted 01_datapipe.ipynb.\n",
      "Converted 02_geo.ipynb.\n",
      "Converted 88_app.ipynb.\n",
      "Converted index.ipynb.\n"
     ]
    }
   ],
   "source": [
    "notebook2script()"
   ]
  },
  {
   "cell_type": "code",
   "execution_count": null,
   "metadata": {},
   "outputs": [],
   "source": []
  }
 ],
 "metadata": {
  "kernelspec": {
   "display_name": ".venv_titanic-nbdev",
   "language": "python",
   "name": ".venv_titanic-nbdev"
  }
 },
 "nbformat": 4,
 "nbformat_minor": 2
}
